{
 "cells": [
  {
   "cell_type": "markdown",
   "id": "0cbc8028-33ad-42eb-ac5d-4968d369bc9a",
   "metadata": {},
   "source": [
    "### Experiment 2: Comparing 1D CNN and BiLSTM models using TF-IDF Vectorizer\n",
    "\n",
    "The primary objective is to compare and contrast the effectiveness of 1D CNN and BiLSTM models in processing TF-IDF transformed text data. "
   ]
  },
  {
   "cell_type": "code",
   "execution_count": null,
   "id": "d7b0d1fa-4198-46d6-901f-369015870de8",
   "metadata": {},
   "outputs": [],
   "source": [
    "# Installing essential Python libraries for data manipulation\n",
    "!pip install pandas numpy scikit-learn gensim nltk tensorflow"
   ]
  },
  {
   "cell_type": "code",
   "execution_count": null,
   "id": "2c1c1d69-0a8a-4833-ac07-77f82db104e6",
   "metadata": {},
   "outputs": [],
   "source": [
    "%pip install datasets\n",
    "%pip install transformers\n",
    "%pip install spacy\n",
    "%pip install torch\n",
    "%pip install tensorflow\n",
    "%pip install spacy-transformers\n",
    "%pip install transformers[torch]\n",
    "%pip install seqeval\n",
    "!pip install wordcloud"
   ]
  },
  {
   "cell_type": "markdown",
   "id": "2bb36aee-04cf-4838-86a6-08b8e3b7bb5d",
   "metadata": {},
   "source": [
    "### Importing Libraries:\n",
    "\n",
    "We have to import specific python libraries that provide necessary functions and tools for handling the data and performing analyses."
   ]
  },
  {
   "cell_type": "code",
   "execution_count": null,
   "id": "2d3f3181-5f2e-4b75-9556-f820e423f4e3",
   "metadata": {},
   "outputs": [],
   "source": [
    "# For data manipulation\n",
    "import pandas as pd\n",
    "# For numerical operations\n",
    "import numpy as np\n",
    "from sklearn.feature_extraction.text import TfidfVectorizer\n",
    "# For splitting the dataset into training and test sets\n",
    "from sklearn.model_selection import train_test_split\n",
    "# For classification tasks\n",
    "from sklearn.svm import SVC\n",
    "# For accessing the performance metrics\n",
    "from sklearn.metrics import classification_report\n",
    "# For working with text\n",
    "import nltk\n",
    "# for filtering commonly used words\n",
    "from nltk.corpus import stopwords\n",
    "# For stemming words\n",
    "from nltk.stem import PorterStemmer\n",
    "# For splitting texts into tokens\n",
    "from nltk.tokenize import word_tokenize"
   ]
  },
  {
   "cell_type": "markdown",
   "id": "23ac3573-1236-4b8f-8775-9dcac1f80de4",
   "metadata": {},
   "source": [
    "### Loading Dataset:\n",
    "\n",
    "I have chosen to use Hugging Face Datasets' \"surrey-nlp/PLOD-CW\" dataset for this investigation which is available in Surrey learn."
   ]
  },
  {
   "cell_type": "code",
   "execution_count": 9,
   "id": "88d4fa23-ff55-420a-97bd-7fa8050dd6e3",
   "metadata": {},
   "outputs": [],
   "source": [
    "# For loading \"surrey-nlp/PLOD-CW\" dataset from Hugging Face.\n",
    "from datasets import load_dataset, load_metric\n",
    "dataset = load_dataset(\"surrey-nlp/PLOD-CW\")\n",
    "\n",
    "# Convert the 'train' split of the PLOD-CW dataset to a Pandas DataFrame for easier manipulation and analysis.\n",
    "df = dataset['train'].to_pandas()"
   ]
  },
  {
   "cell_type": "markdown",
   "id": "8cef3d4c-f96e-4ef9-b5a3-0ab4cfbbc5ee",
   "metadata": {},
   "source": [
    "### Data Information:\n",
    "\n",
    "After loading the dataset, we are getting an overview of the data using `head()` function.\n",
    "\n",
    "Featues breakdown:\n",
    "\n",
    "- **Tokens** - These are discrete words or symbols that were taken out of the dataset texts.\n",
    "- **Part-of-speech tags (POS_tags)** - These are the grammatical information that are allocated to each token.\n",
    "- **Named entity recognition tags (NER_tags)** - These tags group names, locations, organisations, and other attributes into predetermined categories for token classification."
   ]
  },
  {
   "cell_type": "code",
   "execution_count": 10,
   "id": "8907b322-4a14-4a39-a8b7-14e45da175e5",
   "metadata": {},
   "outputs": [
    {
     "data": {
      "text/html": [
       "<div>\n",
       "<style scoped>\n",
       "    .dataframe tbody tr th:only-of-type {\n",
       "        vertical-align: middle;\n",
       "    }\n",
       "\n",
       "    .dataframe tbody tr th {\n",
       "        vertical-align: top;\n",
       "    }\n",
       "\n",
       "    .dataframe thead th {\n",
       "        text-align: right;\n",
       "    }\n",
       "</style>\n",
       "<table border=\"1\" class=\"dataframe\">\n",
       "  <thead>\n",
       "    <tr style=\"text-align: right;\">\n",
       "      <th></th>\n",
       "      <th>tokens</th>\n",
       "      <th>pos_tags</th>\n",
       "      <th>ner_tags</th>\n",
       "    </tr>\n",
       "  </thead>\n",
       "  <tbody>\n",
       "    <tr>\n",
       "      <th>0</th>\n",
       "      <td>[For, this, purpose, the, Gothenburg, Young, P...</td>\n",
       "      <td>[ADP, DET, NOUN, DET, PROPN, PROPN, PROPN, PRO...</td>\n",
       "      <td>[B-O, B-O, B-O, B-O, B-LF, I-LF, I-LF, I-LF, I...</td>\n",
       "    </tr>\n",
       "    <tr>\n",
       "      <th>1</th>\n",
       "      <td>[The, following, physiological, traits, were, ...</td>\n",
       "      <td>[DET, ADJ, ADJ, NOUN, AUX, VERB, PUNCT, ADJ, N...</td>\n",
       "      <td>[B-O, B-O, B-O, B-O, B-O, B-O, B-O, B-LF, I-LF...</td>\n",
       "    </tr>\n",
       "    <tr>\n",
       "      <th>2</th>\n",
       "      <td>[Minor, H, antigen, alloimmune, responses, rea...</td>\n",
       "      <td>[ADJ, PROPN, NOUN, ADJ, NOUN, ADV, VERB, ADP, ...</td>\n",
       "      <td>[B-O, B-AC, B-O, B-O, B-O, B-O, B-O, B-O, B-O,...</td>\n",
       "    </tr>\n",
       "    <tr>\n",
       "      <th>3</th>\n",
       "      <td>[EPI, =, Echo, planar, imaging, .]</td>\n",
       "      <td>[PROPN, PUNCT, NOUN, NOUN, NOUN, PUNCT]</td>\n",
       "      <td>[B-AC, B-O, B-LF, I-LF, I-LF, B-O]</td>\n",
       "    </tr>\n",
       "    <tr>\n",
       "      <th>4</th>\n",
       "      <td>[Furthermore, ,, eNOS, -, derived, NO, S, -, n...</td>\n",
       "      <td>[ADV, PUNCT, PROPN, PUNCT, VERB, PROPN, NOUN, ...</td>\n",
       "      <td>[B-O, B-O, B-AC, B-O, B-O, B-AC, B-O, B-O, B-O...</td>\n",
       "    </tr>\n",
       "  </tbody>\n",
       "</table>\n",
       "</div>"
      ],
      "text/plain": [
       "                                              tokens  \\\n",
       "0  [For, this, purpose, the, Gothenburg, Young, P...   \n",
       "1  [The, following, physiological, traits, were, ...   \n",
       "2  [Minor, H, antigen, alloimmune, responses, rea...   \n",
       "3                 [EPI, =, Echo, planar, imaging, .]   \n",
       "4  [Furthermore, ,, eNOS, -, derived, NO, S, -, n...   \n",
       "\n",
       "                                            pos_tags  \\\n",
       "0  [ADP, DET, NOUN, DET, PROPN, PROPN, PROPN, PRO...   \n",
       "1  [DET, ADJ, ADJ, NOUN, AUX, VERB, PUNCT, ADJ, N...   \n",
       "2  [ADJ, PROPN, NOUN, ADJ, NOUN, ADV, VERB, ADP, ...   \n",
       "3            [PROPN, PUNCT, NOUN, NOUN, NOUN, PUNCT]   \n",
       "4  [ADV, PUNCT, PROPN, PUNCT, VERB, PROPN, NOUN, ...   \n",
       "\n",
       "                                            ner_tags  \n",
       "0  [B-O, B-O, B-O, B-O, B-LF, I-LF, I-LF, I-LF, I...  \n",
       "1  [B-O, B-O, B-O, B-O, B-O, B-O, B-O, B-LF, I-LF...  \n",
       "2  [B-O, B-AC, B-O, B-O, B-O, B-O, B-O, B-O, B-O,...  \n",
       "3                 [B-AC, B-O, B-LF, I-LF, I-LF, B-O]  \n",
       "4  [B-O, B-O, B-AC, B-O, B-O, B-AC, B-O, B-O, B-O...  "
      ]
     },
     "execution_count": 10,
     "metadata": {},
     "output_type": "execute_result"
    }
   ],
   "source": [
    "# For displaying the first few rows of the DataFrame to preview its structure and the types of data it contains.\n",
    "df.head()"
   ]
  },
  {
   "cell_type": "code",
   "execution_count": 11,
   "id": "ddf1d329-5fa1-40f2-812d-97aeed475f0c",
   "metadata": {},
   "outputs": [
    {
     "name": "stdout",
     "output_type": "stream",
     "text": [
      "\n",
      "Missing values in each column:\n",
      "tokens      0\n",
      "pos_tags    0\n",
      "ner_tags    0\n",
      "dtype: int64\n"
     ]
    }
   ],
   "source": [
    "# Count missing values in each column\n",
    "print(\"\\nMissing values in each column:\")\n",
    "print(df.isnull().sum())"
   ]
  },
  {
   "cell_type": "markdown",
   "id": "dab0340a-6f07-424b-9cb2-d2bd83305352",
   "metadata": {},
   "source": [
    "### Data Preparation:\n",
    "\n",
    "- **Preparing Text Data:**\n",
    "The text data from the loaded dataset is prepared by concatenating the tokens for each sample into a single string, using list comprehensions and the join function.\n",
    "- **TF-IDF Vectorization:**\n",
    "The TfidfVectorizer is used to convert the text data into TF-IDF vectors. The fit_transform method is called on the training data to fit the vectorizer and transform the training texts, while the transform method is used on the test data to transform it based on the vectorizer fitted with the training data.\n",
    "- **Encoding Labels:**\n",
    "The labels from the dataset's NER tags are encoded using LabelEncoder. This step assigns a unique integer to each class in the labels, making it suitable for model training.\n",
    "- **Converting Labels to One-Hot Encoding:**\n",
    "The encoded labels are then converted into one-hot encoded format using the to_categorical function. This is necessary for multi-class classification tasks as it represents each class as a binary vector."
   ]
  },
  {
   "cell_type": "code",
   "execution_count": 4,
   "id": "a2a4e6e2-2664-4b9c-99d4-532a945670c8",
   "metadata": {},
   "outputs": [],
   "source": [
    "from sklearn.feature_extraction.text import TfidfVectorizer\n",
    "from sklearn.preprocessing import LabelEncoder\n",
    "from tensorflow.keras.models import Sequential\n",
    "from tensorflow.keras.layers import Conv1D, GlobalMaxPooling1D, Dense, Bidirectional, LSTM\n",
    "from tensorflow.keras.utils import to_categorical\n",
    "from sklearn.metrics import classification_report, confusion_matrix\n",
    "import numpy as np\n",
    "import matplotlib.pyplot as plt\n",
    "import seaborn as sns\n",
    "\n",
    "# Assume dataset['train']['tokens'] and dataset['test']['tokens'] are available\n",
    "train_texts = [\" \".join(tokens) for tokens in dataset['train']['tokens']]\n",
    "test_texts = [\" \".join(tokens) for tokens in dataset['test']['tokens']]\n",
    "\n",
    "# TF-IDF Vectorization\n",
    "tfidf_vectorizer = TfidfVectorizer(max_features=10000)\n",
    "X_train_tfidf = tfidf_vectorizer.fit_transform(train_texts).toarray()\n",
    "X_test_tfidf = tfidf_vectorizer.transform(test_texts).toarray()\n",
    "\n",
    "# Encode labels\n",
    "label_encoder = LabelEncoder()\n",
    "y_train = label_encoder.fit_transform([tags[1] for tags in dataset['train']['ner_tags']])\n",
    "y_test = label_encoder.transform([tags[1] for tags in dataset['test']['ner_tags']])\n",
    "\n",
    "# Convert labels to one-hot encoding\n",
    "y_train_encoded = to_categorical(y_train, num_classes=len(label_encoder.classes_))\n",
    "y_test_encoded = to_categorical(y_test, num_classes=len(label_encoder.classes_))"
   ]
  },
  {
   "cell_type": "markdown",
   "id": "c725c1ed-8287-4154-91e7-ad4c8324ade3",
   "metadata": {},
   "source": [
    "### Defining models and Performance Comparisom:\n",
    "\n",
    "- **Building and Training 1D CNN Model:**\n",
    "A sequential model (model_cnn) is created with a convolutional layer (Conv1D), global max pooling layer (GlobalMaxPooling1D), and a dense layer with softmax activation for multi-class classification.\n",
    "The model is compiled with the Adam optimizer and categorical crossentropy loss function.\n",
    "The model is trained (history_cnn) on the TF-IDF transformed training data for 10 epochs with a validation split of 20% and a batch size of 32.\n",
    "- **Making Predictions with 1D CNN Model:**\n",
    "Predictions (y_pred_cnn) are made on the TF-IDF transformed test data using the trained 1D CNN model.\n",
    "- **Building and Training BiLSTM Model:**\n",
    "Another sequential model (model_bilstm) is created with a bidirectional LSTM layer (Bidirectional), global max pooling layer, and dense layer with softmax activation.\n",
    "Similar to the 1D CNN model, the BiLSTM model is compiled and trained (history_bilstm) on the TF-IDF transformed training data for 10 epochs with validation split and batch size.\n",
    "- **Making Predictions with BiLSTM Model:**\n",
    "Predictions (y_pred_bilstm) are made on the TF-IDF transformed test data using the trained BiLSTM model.\n",
    "- **Printing Classification Reports:**\n",
    "Classification reports are printed for both models, showing precision, recall, and F1-score for each class in the test data.\n",
    "These reports provide insights into the models' performance on different classes and overall accuracy.\n",
    "- **Visualizing Confusion Matrices:**\n",
    "Confusion matrices are plotted for both models, providing a visual representation of the models' predictions compared to the actual labels.\n",
    "The heatmaps in the confusion matrices help in understanding where the models are making correct predictions and where they are getting confused."
   ]
  },
  {
   "cell_type": "code",
   "execution_count": 5,
   "id": "c658f409-7331-4e08-8682-54545004c30f",
   "metadata": {},
   "outputs": [
    {
     "name": "stderr",
     "output_type": "stream",
     "text": [
      "/Users/wilson/anaconda3/envs/NLP/lib/python3.11/site-packages/keras/src/layers/convolutional/base_conv.py:107: UserWarning: Do not pass an `input_shape`/`input_dim` argument to a layer. When using Sequential models, prefer using an `Input(shape)` object as the first layer in the model instead.\n",
      "  super().__init__(activity_regularizer=activity_regularizer, **kwargs)\n"
     ]
    },
    {
     "name": "stdout",
     "output_type": "stream",
     "text": [
      "Epoch 1/10\n",
      "\u001b[1m27/27\u001b[0m \u001b[32m━━━━━━━━━━━━━━━━━━━━\u001b[0m\u001b[37m\u001b[0m \u001b[1m3s\u001b[0m 108ms/step - accuracy: 0.8841 - loss: 1.2593 - val_accuracy: 0.8651 - val_loss: 0.9887\n",
      "Epoch 2/10\n",
      "\u001b[1m27/27\u001b[0m \u001b[32m━━━━━━━━━━━━━━━━━━━━\u001b[0m\u001b[37m\u001b[0m \u001b[1m3s\u001b[0m 108ms/step - accuracy: 0.8975 - loss: 0.8836 - val_accuracy: 0.8651 - val_loss: 0.7045\n",
      "Epoch 3/10\n",
      "\u001b[1m27/27\u001b[0m \u001b[32m━━━━━━━━━━━━━━━━━━━━\u001b[0m\u001b[37m\u001b[0m \u001b[1m3s\u001b[0m 98ms/step - accuracy: 0.9102 - loss: 0.5808 - val_accuracy: 0.8651 - val_loss: 0.5658\n",
      "Epoch 4/10\n",
      "\u001b[1m27/27\u001b[0m \u001b[32m━━━━━━━━━━━━━━━━━━━━\u001b[0m\u001b[37m\u001b[0m \u001b[1m2s\u001b[0m 91ms/step - accuracy: 0.8963 - loss: 0.4755 - val_accuracy: 0.8651 - val_loss: 0.5414\n",
      "Epoch 5/10\n",
      "\u001b[1m27/27\u001b[0m \u001b[32m━━━━━━━━━━━━━━━━━━━━\u001b[0m\u001b[37m\u001b[0m \u001b[1m3s\u001b[0m 95ms/step - accuracy: 0.9148 - loss: 0.3998 - val_accuracy: 0.8651 - val_loss: 0.5403\n",
      "Epoch 6/10\n",
      "\u001b[1m27/27\u001b[0m \u001b[32m━━━━━━━━━━━━━━━━━━━━\u001b[0m\u001b[37m\u001b[0m \u001b[1m3s\u001b[0m 96ms/step - accuracy: 0.9188 - loss: 0.3737 - val_accuracy: 0.8651 - val_loss: 0.5381\n",
      "Epoch 7/10\n",
      "\u001b[1m27/27\u001b[0m \u001b[32m━━━━━━━━━━━━━━━━━━━━\u001b[0m\u001b[37m\u001b[0m \u001b[1m3s\u001b[0m 96ms/step - accuracy: 0.9191 - loss: 0.3760 - val_accuracy: 0.8651 - val_loss: 0.5342\n",
      "Epoch 8/10\n",
      "\u001b[1m27/27\u001b[0m \u001b[32m━━━━━━━━━━━━━━━━━━━━\u001b[0m\u001b[37m\u001b[0m \u001b[1m3s\u001b[0m 115ms/step - accuracy: 0.9226 - loss: 0.3606 - val_accuracy: 0.8651 - val_loss: 0.5345\n",
      "Epoch 9/10\n",
      "\u001b[1m27/27\u001b[0m \u001b[32m━━━━━━━━━━━━━━━━━━━━\u001b[0m\u001b[37m\u001b[0m \u001b[1m3s\u001b[0m 109ms/step - accuracy: 0.8941 - loss: 0.4495 - val_accuracy: 0.8651 - val_loss: 0.5302\n",
      "Epoch 10/10\n",
      "\u001b[1m27/27\u001b[0m \u001b[32m━━━━━━━━━━━━━━━━━━━━\u001b[0m\u001b[37m\u001b[0m \u001b[1m3s\u001b[0m 104ms/step - accuracy: 0.8997 - loss: 0.4412 - val_accuracy: 0.8651 - val_loss: 0.5319\n",
      "\u001b[1m5/5\u001b[0m \u001b[32m━━━━━━━━━━━━━━━━━━━━\u001b[0m\u001b[37m\u001b[0m \u001b[1m0s\u001b[0m 33ms/step\n"
     ]
    }
   ],
   "source": [
    "model_cnn = Sequential([\n",
    "    Conv1D(filters=128, kernel_size=3, activation='relu', input_shape=(X_train_tfidf.shape[1], 1)),\n",
    "    GlobalMaxPooling1D(),\n",
    "    Dense(len(label_encoder.classes_), activation='softmax')\n",
    "])\n",
    "model_cnn.compile(optimizer='adam', loss='categorical_crossentropy', metrics=['accuracy'])\n",
    "history_cnn = model_cnn.fit(np.expand_dims(X_train_tfidf, -1), y_train_encoded, epochs=10, validation_split=0.2, batch_size=32)\n",
    "y_pred_cnn = np.argmax(model_cnn.predict(np.expand_dims(X_test_tfidf, -1)), axis=1)"
   ]
  },
  {
   "cell_type": "code",
   "execution_count": 6,
   "id": "8436d2f7-9841-43ca-957a-95b2b3068d7a",
   "metadata": {},
   "outputs": [
    {
     "name": "stdout",
     "output_type": "stream",
     "text": [
      "Epoch 1/10\n"
     ]
    },
    {
     "name": "stderr",
     "output_type": "stream",
     "text": [
      "/Users/wilson/anaconda3/envs/NLP/lib/python3.11/site-packages/keras/src/layers/core/wrapper.py:27: UserWarning: Do not pass an `input_shape`/`input_dim` argument to a layer. When using Sequential models, prefer using an `Input(shape)` object as the first layer in the model instead.\n",
      "  super().__init__(**kwargs)\n"
     ]
    },
    {
     "name": "stdout",
     "output_type": "stream",
     "text": [
      "\u001b[1m27/27\u001b[0m \u001b[32m━━━━━━━━━━━━━━━━━━━━\u001b[0m\u001b[37m\u001b[0m \u001b[1m81s\u001b[0m 3s/step - accuracy: 0.9061 - loss: 1.1922 - val_accuracy: 0.8651 - val_loss: 0.6068\n",
      "Epoch 2/10\n",
      "\u001b[1m27/27\u001b[0m \u001b[32m━━━━━━━━━━━━━━━━━━━━\u001b[0m\u001b[37m\u001b[0m \u001b[1m48s\u001b[0m 2s/step - accuracy: 0.8975 - loss: 0.4605 - val_accuracy: 0.8651 - val_loss: 0.5267\n",
      "Epoch 3/10\n",
      "\u001b[1m27/27\u001b[0m \u001b[32m━━━━━━━━━━━━━━━━━━━━\u001b[0m\u001b[37m\u001b[0m \u001b[1m42s\u001b[0m 2s/step - accuracy: 0.9057 - loss: 0.4217 - val_accuracy: 0.8651 - val_loss: 0.5278\n",
      "Epoch 4/10\n",
      "\u001b[1m27/27\u001b[0m \u001b[32m━━━━━━━━━━━━━━━━━━━━\u001b[0m\u001b[37m\u001b[0m \u001b[1m42s\u001b[0m 2s/step - accuracy: 0.8978 - loss: 0.4362 - val_accuracy: 0.8651 - val_loss: 0.5281\n",
      "Epoch 5/10\n",
      "\u001b[1m27/27\u001b[0m \u001b[32m━━━━━━━━━━━━━━━━━━━━\u001b[0m\u001b[37m\u001b[0m \u001b[1m44s\u001b[0m 2s/step - accuracy: 0.9059 - loss: 0.4181 - val_accuracy: 0.8651 - val_loss: 0.5294\n",
      "Epoch 6/10\n",
      "\u001b[1m27/27\u001b[0m \u001b[32m━━━━━━━━━━━━━━━━━━━━\u001b[0m\u001b[37m\u001b[0m \u001b[1m45s\u001b[0m 2s/step - accuracy: 0.9088 - loss: 0.3982 - val_accuracy: 0.8651 - val_loss: 0.5285\n",
      "Epoch 7/10\n",
      "\u001b[1m27/27\u001b[0m \u001b[32m━━━━━━━━━━━━━━━━━━━━\u001b[0m\u001b[37m\u001b[0m \u001b[1m44s\u001b[0m 2s/step - accuracy: 0.8955 - loss: 0.4454 - val_accuracy: 0.8651 - val_loss: 0.5347\n",
      "Epoch 8/10\n",
      "\u001b[1m27/27\u001b[0m \u001b[32m━━━━━━━━━━━━━━━━━━━━\u001b[0m\u001b[37m\u001b[0m \u001b[1m46s\u001b[0m 2s/step - accuracy: 0.9003 - loss: 0.4231 - val_accuracy: 0.8651 - val_loss: 0.5254\n",
      "Epoch 9/10\n",
      "\u001b[1m27/27\u001b[0m \u001b[32m━━━━━━━━━━━━━━━━━━━━\u001b[0m\u001b[37m\u001b[0m \u001b[1m45s\u001b[0m 2s/step - accuracy: 0.8957 - loss: 0.4487 - val_accuracy: 0.8651 - val_loss: 0.5308\n",
      "Epoch 10/10\n",
      "\u001b[1m27/27\u001b[0m \u001b[32m━━━━━━━━━━━━━━━━━━━━\u001b[0m\u001b[37m\u001b[0m \u001b[1m44s\u001b[0m 2s/step - accuracy: 0.9066 - loss: 0.4066 - val_accuracy: 0.8651 - val_loss: 0.5289\n",
      "\u001b[1m5/5\u001b[0m \u001b[32m━━━━━━━━━━━━━━━━━━━━\u001b[0m\u001b[37m\u001b[0m \u001b[1m2s\u001b[0m 344ms/step\n"
     ]
    }
   ],
   "source": [
    "model_bilstm = Sequential([\n",
    "    Bidirectional(LSTM(64, return_sequences=True), input_shape=(X_train_tfidf.shape[1], 1)),\n",
    "    GlobalMaxPooling1D(),\n",
    "    Dense(len(label_encoder.classes_), activation='softmax')\n",
    "])\n",
    "model_bilstm.compile(optimizer='adam', loss='categorical_crossentropy', metrics=['accuracy'])\n",
    "history_bilstm = model_bilstm.fit(np.expand_dims(X_train_tfidf, -1), y_train_encoded, epochs=10, validation_split=0.2, batch_size=32)\n",
    "y_pred_bilstm = np.argmax(model_bilstm.predict(np.expand_dims(X_test_tfidf, -1)), axis=1)"
   ]
  },
  {
   "cell_type": "code",
   "execution_count": 7,
   "id": "955ada9f-516d-49b4-ba60-6e0785c467b5",
   "metadata": {},
   "outputs": [
    {
     "name": "stdout",
     "output_type": "stream",
     "text": [
      "1D CNN Classification Report:\n",
      "              precision    recall  f1-score   support\n",
      "\n",
      "           0       0.00      0.00      0.00         3\n",
      "           1       0.00      0.00      0.00         7\n",
      "           2       0.88      1.00      0.93       134\n",
      "           3       0.00      0.00      0.00         9\n",
      "\n",
      "    accuracy                           0.88       153\n",
      "   macro avg       0.22      0.25      0.23       153\n",
      "weighted avg       0.77      0.88      0.82       153\n",
      "\n"
     ]
    },
    {
     "name": "stderr",
     "output_type": "stream",
     "text": [
      "/Users/wilson/anaconda3/envs/NLP/lib/python3.11/site-packages/sklearn/metrics/_classification.py:1509: UndefinedMetricWarning: Precision is ill-defined and being set to 0.0 in labels with no predicted samples. Use `zero_division` parameter to control this behavior.\n",
      "  _warn_prf(average, modifier, f\"{metric.capitalize()} is\", len(result))\n",
      "/Users/wilson/anaconda3/envs/NLP/lib/python3.11/site-packages/sklearn/metrics/_classification.py:1509: UndefinedMetricWarning: Precision is ill-defined and being set to 0.0 in labels with no predicted samples. Use `zero_division` parameter to control this behavior.\n",
      "  _warn_prf(average, modifier, f\"{metric.capitalize()} is\", len(result))\n",
      "/Users/wilson/anaconda3/envs/NLP/lib/python3.11/site-packages/sklearn/metrics/_classification.py:1509: UndefinedMetricWarning: Precision is ill-defined and being set to 0.0 in labels with no predicted samples. Use `zero_division` parameter to control this behavior.\n",
      "  _warn_prf(average, modifier, f\"{metric.capitalize()} is\", len(result))\n"
     ]
    },
    {
     "data": {
      "image/png": "[encoded data removed]",
      "text/plain": [
       "<Figure size 1000x800 with 2 Axes>"
      ]
     },
     "metadata": {},
     "output_type": "display_data"
    },
    {
     "name": "stdout",
     "output_type": "stream",
     "text": [
      "BiLSTM Classification Report:\n",
      "              precision    recall  f1-score   support\n",
      "\n",
      "           0       0.00      0.00      0.00         3\n",
      "           1       0.00      0.00      0.00         7\n",
      "           2       0.88      1.00      0.93       134\n",
      "           3       0.00      0.00      0.00         9\n",
      "\n",
      "    accuracy                           0.88       153\n",
      "   macro avg       0.22      0.25      0.23       153\n",
      "weighted avg       0.77      0.88      0.82       153\n",
      "\n"
     ]
    },
    {
     "name": "stderr",
     "output_type": "stream",
     "text": [
      "/Users/wilson/anaconda3/envs/NLP/lib/python3.11/site-packages/sklearn/metrics/_classification.py:1509: UndefinedMetricWarning: Precision is ill-defined and being set to 0.0 in labels with no predicted samples. Use `zero_division` parameter to control this behavior.\n",
      "  _warn_prf(average, modifier, f\"{metric.capitalize()} is\", len(result))\n",
      "/Users/wilson/anaconda3/envs/NLP/lib/python3.11/site-packages/sklearn/metrics/_classification.py:1509: UndefinedMetricWarning: Precision is ill-defined and being set to 0.0 in labels with no predicted samples. Use `zero_division` parameter to control this behavior.\n",
      "  _warn_prf(average, modifier, f\"{metric.capitalize()} is\", len(result))\n",
      "/Users/wilson/anaconda3/envs/NLP/lib/python3.11/site-packages/sklearn/metrics/_classification.py:1509: UndefinedMetricWarning: Precision is ill-defined and being set to 0.0 in labels with no predicted samples. Use `zero_division` parameter to control this behavior.\n",
      "  _warn_prf(average, modifier, f\"{metric.capitalize()} is\", len(result))\n"
     ]
    },
    {
     "data": {
      "image/png": "[encoded data removed]",
      "text/plain": [
       "<Figure size 1000x800 with 2 Axes>"
      ]
     },
     "metadata": {},
     "output_type": "display_data"
    }
   ],
   "source": [
    "print(\"1D CNN Classification Report:\")\n",
    "print(classification_report(y_test, y_pred_cnn))\n",
    "cm_cnn = confusion_matrix(y_test, y_pred_cnn)\n",
    "plt.figure(figsize=(10, 8))\n",
    "sns.heatmap(cm_cnn, annot=True, fmt='d', cmap='Blues', xticklabels=label_encoder.classes_, yticklabels=label_encoder.classes_)\n",
    "plt.xlabel('Predicted')\n",
    "plt.ylabel('True')\n",
    "plt.title('Confusion Matrix - 1D CNN')\n",
    "plt.show()\n",
    "\n",
    "print(\"BiLSTM Classification Report:\")\n",
    "print(classification_report(y_test, y_pred_bilstm))\n",
    "cm_bilstm = confusion_matrix(y_test, y_pred_bilstm)\n",
    "plt.figure(figsize=(10, 8))\n",
    "sns.heatmap(cm_bilstm, annot=True, fmt='d', cmap='Blues', xticklabels=label_encoder.classes_, yticklabels=label_encoder.classes_)\n",
    "plt.xlabel('Predicted')\n",
    "plt.ylabel('True')\n",
    "plt.title('Confusion Matrix - BiLSTM')\n",
    "plt.show()"
   ]
  },
  {
   "cell_type": "markdown",
   "id": "b6a1d6be-b9e6-4c5d-89e8-bb6c7d6a28d9",
   "metadata": {},
   "source": [
    "### Conclusion:\n",
    "\n",
    "Both the 1D CNN and BiLSTM models demonstrate similar performance metrics across precision, recall, and F1-score, as observed in the classification reports. Here's a summarized conclusion based on the provided reports:\n",
    "\n",
    "- **Precision, Recall, and F1-score:**\n",
    "For class 2, both models achieved high precision, recall, and F1-score, indicating strong performance in identifying this class.\n",
    "However, for classes 0, 1, and 3, both models exhibited poor performance with precision, recall, and F1-score being close to zero. This suggests that the models struggled to correctly classify instances of these classes.\n",
    "- **Overall Accuracy:**\n",
    "The overall accuracy of both models is 88%, which is misleading as it is largely driven by the correct classification of the dominant class (class 2). The models failed to generalize well across all classes.\n",
    "- **Model Limitations:**\n",
    "Both models struggled to distinguish between minority classes, leading to poor performance metrics for those classes.\n",
    "The models' inability to effectively learn from and classify instances of classes 0, 1, and 3 indicates the need for further investigation into feature representation and model architecture."
   ]
  }
 ],
 "metadata": {
  "kernelspec": {
   "display_name": "Python 3 (ipykernel)",
   "language": "python",
   "name": "python3"
  },
  "language_info": {
   "codemirror_mode": {
    "name": "ipython",
    "version": 3
   },
   "file_extension": ".py",
   "mimetype": "text/x-python",
   "name": "python",
   "nbconvert_exporter": "python",
   "pygments_lexer": "ipython3",
   "version": "3.11.8"
  }
 },
 "nbformat": 4,
 "nbformat_minor": 5
}
