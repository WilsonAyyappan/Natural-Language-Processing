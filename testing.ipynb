{
 "cells": [
  {
   "cell_type": "code",
   "execution_count": 1,
   "id": "2bff35c1-a4d0-483b-8dd7-1e3c3fe8cb0c",
   "metadata": {},
   "outputs": [
    {
     "name": "stdout",
     "output_type": "stream",
     "text": [
      "{'prediction': 'B-O'}\n"
     ]
    }
   ],
   "source": [
    "import requests\n",
    "\n",
    "def test_model_service(text):\n",
    "    url = 'http://0.0.0.0:5001/predict'\n",
    "    data = {'text': text}\n",
    "    response = requests.post(url, json=data)\n",
    "    return response.json()\n",
    "\n",
    "# Test the service\n",
    "test_text = \"Text to test the Endpoint\"\n",
    "print(test_model_service(test_text))\n",
    "\n"
   ]
  },
  {
   "cell_type": "code",
   "execution_count": null,
   "id": "601e0982-7f52-4580-badb-9fc68ebb9641",
   "metadata": {},
   "outputs": [],
   "source": []
  }
 ],
 "metadata": {
  "kernelspec": {
   "display_name": "Python 3 (ipykernel)",
   "language": "python",
   "name": "python3"
  },
  "language_info": {
   "codemirror_mode": {
    "name": "ipython",
    "version": 3
   },
   "file_extension": ".py",
   "mimetype": "text/x-python",
   "name": "python",
   "nbconvert_exporter": "python",
   "pygments_lexer": "ipython3",
   "version": "3.11.0"
  }
 },
 "nbformat": 4,
 "nbformat_minor": 5
}
