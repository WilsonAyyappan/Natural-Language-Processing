{
 "cells": [
  {
   "cell_type": "markdown",
   "id": "f645ae85-1d2a-434f-92d0-117a793cc873",
   "metadata": {},
   "source": [
    "# Experiment 1: Vectorization techniques and 1D Convolutional Neural Network (1D CNN) comparison\n",
    "\n",
    "The objective is to determine which vectorization technique is more effective for preprocessing text data and improving the performance of 1D CNN models in sequence classification tasks."
   ]
  },
  {
   "cell_type": "code",
   "execution_count": null,
   "id": "bd8d7639-a3b7-4fa1-9492-cb4cc2746086",
   "metadata": {},
   "outputs": [],
   "source": [
    "%pip install datasets\n",
    "%pip install transformers\n",
    "%pip install spacy\n",
    "%pip install torch\n",
    "%pip install tensorflow\n",
    "%pip install spacy-transformers\n",
    "%pip install transformers[torch]\n",
    "%pip install seqeval\n",
    "!pip install wordcloud"
   ]
  },
  {
   "cell_type": "markdown",
   "id": "ceeb6268-2fcb-4149-9351-a65068680c65",
   "metadata": {},
   "source": [
    "### Importing Libraries:\n",
    "\n",
    "We have to import specific python libraries that provide necessary functions and tools for handling the data and performing analyses."
   ]
  },
  {
   "cell_type": "code",
   "execution_count": 10,
   "id": "76f9691a-f449-4dc8-a162-a72f4524236e",
   "metadata": {},
   "outputs": [],
   "source": [
    "# For data manipulation\n",
    "import pandas as pd\n",
    "# For numerical operations\n",
    "import numpy as np\n",
    "from sklearn.feature_extraction.text import TfidfVectorizer\n",
    "# For splitting the dataset into training and test sets\n",
    "from sklearn.model_selection import train_test_split\n",
    "# For classification tasks\n",
    "from sklearn.svm import SVC\n",
    "# For accessing the performance metrics\n",
    "from sklearn.metrics import classification_report\n",
    "# For working with text\n",
    "import nltk\n",
    "# for filtering commonly used words\n",
    "from nltk.corpus import stopwords\n",
    "# For stemming words\n",
    "from nltk.stem import PorterStemmer\n",
    "# For splitting texts into tokens\n",
    "from nltk.tokenize import word_tokenize"
   ]
  },
  {
   "cell_type": "markdown",
   "id": "55f87247-1f79-4296-a1fe-3b9532b33fd6",
   "metadata": {},
   "source": [
    "### Loading Dataset:\n",
    "\n",
    "I have chosen to use Hugging Face Datasets' \"surrey-nlp/PLOD-CW\" dataset for this investigation which is available in Surrey learn."
   ]
  },
  {
   "cell_type": "code",
   "execution_count": 11,
   "id": "f8b1f195-bb10-4b4e-9dda-6c49b8d74071",
   "metadata": {},
   "outputs": [],
   "source": [
    "# For loading \"surrey-nlp/PLOD-CW\" dataset from Hugging Face.\n",
    "from datasets import load_dataset, load_metric\n",
    "dataset = load_dataset(\"surrey-nlp/PLOD-CW\")\n",
    "\n",
    "# Convert the 'train' split of the PLOD-CW dataset to a Pandas DataFrame for easier manipulation and analysis.\n",
    "df = dataset['train'].to_pandas()"
   ]
  },
  {
   "cell_type": "markdown",
   "id": "98653472-e3ec-40b1-9081-13538054269c",
   "metadata": {},
   "source": [
    "### Data Information:\n",
    "\n",
    "After loading the dataset, we are getting an overview of the data using `head()` function.\n",
    "\n",
    "Featues breakdown:\n",
    "\n",
    "- **Tokens** - These are discrete words or symbols that were taken out of the dataset texts.\n",
    "- **Part-of-speech tags (POS_tags)** - These are the grammatical information that are allocated to each token.\n",
    "- **Named entity recognition tags (NER_tags)** - These tags group names, locations, organisations, and other attributes into predetermined categories for token classification."
   ]
  },
  {
   "cell_type": "code",
   "execution_count": 15,
   "id": "ed5c704b-fcb9-4b3f-a6ce-e19f4ecdfa06",
   "metadata": {},
   "outputs": [
    {
     "data": {
      "text/html": [
       "<div>\n",
       "<style scoped>\n",
       "    .dataframe tbody tr th:only-of-type {\n",
       "        vertical-align: middle;\n",
       "    }\n",
       "\n",
       "    .dataframe tbody tr th {\n",
       "        vertical-align: top;\n",
       "    }\n",
       "\n",
       "    .dataframe thead th {\n",
       "        text-align: right;\n",
       "    }\n",
       "</style>\n",
       "<table border=\"1\" class=\"dataframe\">\n",
       "  <thead>\n",
       "    <tr style=\"text-align: right;\">\n",
       "      <th></th>\n",
       "      <th>tokens</th>\n",
       "      <th>pos_tags</th>\n",
       "      <th>ner_tags</th>\n",
       "    </tr>\n",
       "  </thead>\n",
       "  <tbody>\n",
       "    <tr>\n",
       "      <th>0</th>\n",
       "      <td>[For, this, purpose, the, Gothenburg, Young, P...</td>\n",
       "      <td>[ADP, DET, NOUN, DET, PROPN, PROPN, PROPN, PRO...</td>\n",
       "      <td>[B-O, B-O, B-O, B-O, B-LF, I-LF, I-LF, I-LF, I...</td>\n",
       "    </tr>\n",
       "    <tr>\n",
       "      <th>1</th>\n",
       "      <td>[The, following, physiological, traits, were, ...</td>\n",
       "      <td>[DET, ADJ, ADJ, NOUN, AUX, VERB, PUNCT, ADJ, N...</td>\n",
       "      <td>[B-O, B-O, B-O, B-O, B-O, B-O, B-O, B-LF, I-LF...</td>\n",
       "    </tr>\n",
       "    <tr>\n",
       "      <th>2</th>\n",
       "      <td>[Minor, H, antigen, alloimmune, responses, rea...</td>\n",
       "      <td>[ADJ, PROPN, NOUN, ADJ, NOUN, ADV, VERB, ADP, ...</td>\n",
       "      <td>[B-O, B-AC, B-O, B-O, B-O, B-O, B-O, B-O, B-O,...</td>\n",
       "    </tr>\n",
       "    <tr>\n",
       "      <th>3</th>\n",
       "      <td>[EPI, =, Echo, planar, imaging, .]</td>\n",
       "      <td>[PROPN, PUNCT, NOUN, NOUN, NOUN, PUNCT]</td>\n",
       "      <td>[B-AC, B-O, B-LF, I-LF, I-LF, B-O]</td>\n",
       "    </tr>\n",
       "    <tr>\n",
       "      <th>4</th>\n",
       "      <td>[Furthermore, ,, eNOS, -, derived, NO, S, -, n...</td>\n",
       "      <td>[ADV, PUNCT, PROPN, PUNCT, VERB, PROPN, NOUN, ...</td>\n",
       "      <td>[B-O, B-O, B-AC, B-O, B-O, B-AC, B-O, B-O, B-O...</td>\n",
       "    </tr>\n",
       "  </tbody>\n",
       "</table>\n",
       "</div>"
      ],
      "text/plain": [
       "                                              tokens  \\\n",
       "0  [For, this, purpose, the, Gothenburg, Young, P...   \n",
       "1  [The, following, physiological, traits, were, ...   \n",
       "2  [Minor, H, antigen, alloimmune, responses, rea...   \n",
       "3                 [EPI, =, Echo, planar, imaging, .]   \n",
       "4  [Furthermore, ,, eNOS, -, derived, NO, S, -, n...   \n",
       "\n",
       "                                            pos_tags  \\\n",
       "0  [ADP, DET, NOUN, DET, PROPN, PROPN, PROPN, PRO...   \n",
       "1  [DET, ADJ, ADJ, NOUN, AUX, VERB, PUNCT, ADJ, N...   \n",
       "2  [ADJ, PROPN, NOUN, ADJ, NOUN, ADV, VERB, ADP, ...   \n",
       "3            [PROPN, PUNCT, NOUN, NOUN, NOUN, PUNCT]   \n",
       "4  [ADV, PUNCT, PROPN, PUNCT, VERB, PROPN, NOUN, ...   \n",
       "\n",
       "                                            ner_tags  \n",
       "0  [B-O, B-O, B-O, B-O, B-LF, I-LF, I-LF, I-LF, I...  \n",
       "1  [B-O, B-O, B-O, B-O, B-O, B-O, B-O, B-LF, I-LF...  \n",
       "2  [B-O, B-AC, B-O, B-O, B-O, B-O, B-O, B-O, B-O,...  \n",
       "3                 [B-AC, B-O, B-LF, I-LF, I-LF, B-O]  \n",
       "4  [B-O, B-O, B-AC, B-O, B-O, B-AC, B-O, B-O, B-O...  "
      ]
     },
     "execution_count": 15,
     "metadata": {},
     "output_type": "execute_result"
    }
   ],
   "source": [
    "# For displaying the first few rows of the DataFrame to preview its structure and the types of data it contains.\n",
    "df.head()"
   ]
  },
  {
   "cell_type": "code",
   "execution_count": 16,
   "id": "ad17fcf6-bdef-4667-b56d-822c35e863d4",
   "metadata": {},
   "outputs": [
    {
     "name": "stdout",
     "output_type": "stream",
     "text": [
      "\n",
      "Missing values in each column:\n",
      "tokens      0\n",
      "pos_tags    0\n",
      "ner_tags    0\n",
      "dtype: int64\n"
     ]
    }
   ],
   "source": [
    "# Count missing values in each column\n",
    "print(\"\\nMissing values in each column:\")\n",
    "print(df.isnull().sum())"
   ]
  },
  {
   "cell_type": "markdown",
   "id": "1d56f225-a815-4618-8600-ce126c172165",
   "metadata": {},
   "source": [
    "### Data Preparation and Performance Comparison:\n",
    "\n",
    "- **Combine Tokens:**\n",
    "Combining individual tokens into single strings for each sample in the training and test datasets.\n",
    "- **Vectorization (TF-IDF):**\n",
    "TfidfVectorizer is used to convert the train and test texts into a matrix of TF-IDF features.\n",
    "- **Vectorization (Count):**\n",
    "CountVectorizer is also used to transform texts into a matrix of token counts. This creates a different representation that could be used to train models as an alternative to TF-IDF features.\n",
    "- **Label Encoding:**\n",
    "Creating a LabelEncoder instance, which is used to encode the labels numerically. This is necessary because machine learning models don't work with categorical labels directly; they require numerical inputs.\n",
    "- **One-Hot Encoding of Labels:**\n",
    "The numerical labels are then converted to a one-hot encoded format using to_categorical, which is necessary for classification with neural networks since the output layer will likely use softmax activation that expects this format. This step creates a binary matrix representation of the labels.\n",
    "- **Building the 1D CNN Model:**\n",
    "A 1D CNN model is created using a stack of layers. It starts with a convolutional layer that filters the input text, followed by a pooling layer that simplifies the output from the convolutional layer, and ends with a dense layer that decides the class of the input text based on the features extracted by the convolutional layer.\n",
    "- **Training the Model with TF-IDF Data:**\n",
    "The model is then taught using the TF-IDF transformed text data. TF-IDF is a way to turn text into numbers that the model can understand, highlighting which words are important in a document.\n",
    "- **Making Predictions with TF-IDF Data:**\n",
    "After learning, the model uses what it knows to make predictions on new, unseen text data that has also been turned into numbers with TF-IDF.\n",
    "- **Training the Model with Count Vector Data:**\n",
    "Now The model learns from count vector data, which is another way to turn text into numbers by simply counting how often each word appears.\n",
    "- **Making Predictions with Count Vector Data:**\n",
    "The model, now trained with count vector data, makes another set of predictions on new, unseen text data that has been turned into numbers using the count method.\n",
    "- **Evaluating the Models:**\n",
    "The model's performance is checked by comparing its predictions to the actual classes of the text data. A report is printed showing how well the model did for each type of class it was supposed to identify.\n",
    "- **Visualizing the Results:**\n",
    "The results are also shown in confusion matrices, which are special charts that help visualize where the model is making correct predictions and where it's getting confused. These charts show the predicted classes against the actual classes using color intensity to indicate the number of predictions."
   ]
  },
  {
   "cell_type": "code",
   "execution_count": 19,
   "id": "2c83ae5e-224c-42c6-8e97-8d851407b095",
   "metadata": {},
   "outputs": [
    {
     "name": "stdout",
     "output_type": "stream",
     "text": [
      "Epoch 1/10\n"
     ]
    },
    {
     "name": "stderr",
     "output_type": "stream",
     "text": [
      "/Users/wilson/anaconda3/envs/NLP/lib/python3.11/site-packages/keras/src/layers/convolutional/base_conv.py:107: UserWarning: Do not pass an `input_shape`/`input_dim` argument to a layer. When using Sequential models, prefer using an `Input(shape)` object as the first layer in the model instead.\n",
      "  super().__init__(activity_regularizer=activity_regularizer, **kwargs)\n"
     ]
    },
    {
     "name": "stdout",
     "output_type": "stream",
     "text": [
      "\u001b[1m27/27\u001b[0m \u001b[32m━━━━━━━━━━━━━━━━━━━━\u001b[0m\u001b[37m\u001b[0m \u001b[1m3s\u001b[0m 86ms/step - accuracy: 0.9108 - loss: 1.2350 - val_accuracy: 0.8651 - val_loss: 0.9500\n",
      "Epoch 2/10\n",
      "\u001b[1m27/27\u001b[0m \u001b[32m━━━━━━━━━━━━━━━━━━━━\u001b[0m\u001b[37m\u001b[0m \u001b[1m2s\u001b[0m 85ms/step - accuracy: 0.9069 - loss: 0.8296 - val_accuracy: 0.8651 - val_loss: 0.6637\n",
      "Epoch 3/10\n",
      "\u001b[1m27/27\u001b[0m \u001b[32m━━━━━━━━━━━━━━━━━━━━\u001b[0m\u001b[37m\u001b[0m \u001b[1m2s\u001b[0m 87ms/step - accuracy: 0.9021 - loss: 0.5534 - val_accuracy: 0.8651 - val_loss: 0.5519\n",
      "Epoch 4/10\n",
      "\u001b[1m27/27\u001b[0m \u001b[32m━━━━━━━━━━━━━━━━━━━━\u001b[0m\u001b[37m\u001b[0m \u001b[1m2s\u001b[0m 86ms/step - accuracy: 0.9158 - loss: 0.4131 - val_accuracy: 0.8651 - val_loss: 0.5399\n",
      "Epoch 5/10\n",
      "\u001b[1m27/27\u001b[0m \u001b[32m━━━━━━━━━━━━━━━━━━━━\u001b[0m\u001b[37m\u001b[0m \u001b[1m2s\u001b[0m 90ms/step - accuracy: 0.9109 - loss: 0.4061 - val_accuracy: 0.8651 - val_loss: 0.5384\n",
      "Epoch 6/10\n",
      "\u001b[1m27/27\u001b[0m \u001b[32m━━━━━━━━━━━━━━━━━━━━\u001b[0m\u001b[37m\u001b[0m \u001b[1m2s\u001b[0m 84ms/step - accuracy: 0.8968 - loss: 0.4530 - val_accuracy: 0.8651 - val_loss: 0.5354\n",
      "Epoch 7/10\n",
      "\u001b[1m27/27\u001b[0m \u001b[32m━━━━━━━━━━━━━━━━━━━━\u001b[0m\u001b[37m\u001b[0m \u001b[1m2s\u001b[0m 85ms/step - accuracy: 0.9017 - loss: 0.4291 - val_accuracy: 0.8651 - val_loss: 0.5328\n",
      "Epoch 8/10\n",
      "\u001b[1m27/27\u001b[0m \u001b[32m━━━━━━━━━━━━━━━━━━━━\u001b[0m\u001b[37m\u001b[0m \u001b[1m2s\u001b[0m 86ms/step - accuracy: 0.9142 - loss: 0.3893 - val_accuracy: 0.8651 - val_loss: 0.5332\n",
      "Epoch 9/10\n",
      "\u001b[1m27/27\u001b[0m \u001b[32m━━━━━━━━━━━━━━━━━━━━\u001b[0m\u001b[37m\u001b[0m \u001b[1m2s\u001b[0m 84ms/step - accuracy: 0.9094 - loss: 0.3970 - val_accuracy: 0.8651 - val_loss: 0.5291\n",
      "Epoch 10/10\n",
      "\u001b[1m27/27\u001b[0m \u001b[32m━━━━━━━━━━━━━━━━━━━━\u001b[0m\u001b[37m\u001b[0m \u001b[1m2s\u001b[0m 84ms/step - accuracy: 0.9004 - loss: 0.4341 - val_accuracy: 0.8651 - val_loss: 0.5309\n",
      "\u001b[1m5/5\u001b[0m \u001b[32m━━━━━━━━━━━━━━━━━━━━\u001b[0m\u001b[37m\u001b[0m \u001b[1m0s\u001b[0m 24ms/step\n",
      "Epoch 1/10\n",
      "\u001b[1m27/27\u001b[0m \u001b[32m━━━━━━━━━━━━━━━━━━━━\u001b[0m\u001b[37m\u001b[0m \u001b[1m3s\u001b[0m 97ms/step - accuracy: 0.9089 - loss: 0.7947 - val_accuracy: 0.8651 - val_loss: 0.5798\n",
      "Epoch 2/10\n",
      "\u001b[1m27/27\u001b[0m \u001b[32m━━━━━━━━━━━━━━━━━━━━\u001b[0m\u001b[37m\u001b[0m \u001b[1m2s\u001b[0m 89ms/step - accuracy: 0.9070 - loss: 0.4454 - val_accuracy: 0.8651 - val_loss: 0.5309\n",
      "Epoch 3/10\n",
      "\u001b[1m27/27\u001b[0m \u001b[32m━━━━━━━━━━━━━━━━━━━━\u001b[0m\u001b[37m\u001b[0m \u001b[1m2s\u001b[0m 85ms/step - accuracy: 0.8955 - loss: 0.4789 - val_accuracy: 0.8651 - val_loss: 0.5395\n",
      "Epoch 4/10\n",
      "\u001b[1m27/27\u001b[0m \u001b[32m━━━━━━━━━━━━━━━━━━━━\u001b[0m\u001b[37m\u001b[0m \u001b[1m2s\u001b[0m 89ms/step - accuracy: 0.8967 - loss: 0.4621 - val_accuracy: 0.8651 - val_loss: 0.5395\n",
      "Epoch 5/10\n",
      "\u001b[1m27/27\u001b[0m \u001b[32m━━━━━━━━━━━━━━━━━━━━\u001b[0m\u001b[37m\u001b[0m \u001b[1m2s\u001b[0m 85ms/step - accuracy: 0.9152 - loss: 0.3856 - val_accuracy: 0.8651 - val_loss: 0.5255\n",
      "Epoch 6/10\n",
      "\u001b[1m27/27\u001b[0m \u001b[32m━━━━━━━━━━━━━━━━━━━━\u001b[0m\u001b[37m\u001b[0m \u001b[1m2s\u001b[0m 83ms/step - accuracy: 0.9118 - loss: 0.3983 - val_accuracy: 0.8651 - val_loss: 0.5236\n",
      "Epoch 7/10\n",
      "\u001b[1m27/27\u001b[0m \u001b[32m━━━━━━━━━━━━━━━━━━━━\u001b[0m\u001b[37m\u001b[0m \u001b[1m2s\u001b[0m 85ms/step - accuracy: 0.9071 - loss: 0.4020 - val_accuracy: 0.8651 - val_loss: 0.5247\n",
      "Epoch 8/10\n",
      "\u001b[1m27/27\u001b[0m \u001b[32m━━━━━━━━━━━━━━━━━━━━\u001b[0m\u001b[37m\u001b[0m \u001b[1m2s\u001b[0m 87ms/step - accuracy: 0.9100 - loss: 0.4036 - val_accuracy: 0.8651 - val_loss: 0.5245\n",
      "Epoch 9/10\n",
      "\u001b[1m27/27\u001b[0m \u001b[32m━━━━━━━━━━━━━━━━━━━━\u001b[0m\u001b[37m\u001b[0m \u001b[1m2s\u001b[0m 92ms/step - accuracy: 0.9002 - loss: 0.4360 - val_accuracy: 0.8651 - val_loss: 0.5309\n",
      "Epoch 10/10\n",
      "\u001b[1m27/27\u001b[0m \u001b[32m━━━━━━━━━━━━━━━━━━━━\u001b[0m\u001b[37m\u001b[0m \u001b[1m2s\u001b[0m 85ms/step - accuracy: 0.9125 - loss: 0.3853 - val_accuracy: 0.8651 - val_loss: 0.5203\n",
      "\u001b[1m5/5\u001b[0m \u001b[32m━━━━━━━━━━━━━━━━━━━━\u001b[0m\u001b[37m\u001b[0m \u001b[1m0s\u001b[0m 24ms/step\n",
      "TF-IDF 1D CNN Classification Report:\n",
      "              precision    recall  f1-score   support\n",
      "\n",
      "           0       0.00      0.00      0.00         3\n",
      "           1       0.00      0.00      0.00         7\n",
      "           2       0.88      1.00      0.93       134\n",
      "           3       0.00      0.00      0.00         9\n",
      "\n",
      "    accuracy                           0.88       153\n",
      "   macro avg       0.22      0.25      0.23       153\n",
      "weighted avg       0.77      0.88      0.82       153\n",
      "\n"
     ]
    },
    {
     "name": "stderr",
     "output_type": "stream",
     "text": [
      "/Users/wilson/anaconda3/envs/NLP/lib/python3.11/site-packages/sklearn/metrics/_classification.py:1509: UndefinedMetricWarning: Precision is ill-defined and being set to 0.0 in labels with no predicted samples. Use `zero_division` parameter to control this behavior.\n",
      "  _warn_prf(average, modifier, f\"{metric.capitalize()} is\", len(result))\n",
      "/Users/wilson/anaconda3/envs/NLP/lib/python3.11/site-packages/sklearn/metrics/_classification.py:1509: UndefinedMetricWarning: Precision is ill-defined and being set to 0.0 in labels with no predicted samples. Use `zero_division` parameter to control this behavior.\n",
      "  _warn_prf(average, modifier, f\"{metric.capitalize()} is\", len(result))\n",
      "/Users/wilson/anaconda3/envs/NLP/lib/python3.11/site-packages/sklearn/metrics/_classification.py:1509: UndefinedMetricWarning: Precision is ill-defined and being set to 0.0 in labels with no predicted samples. Use `zero_division` parameter to control this behavior.\n",
      "  _warn_prf(average, modifier, f\"{metric.capitalize()} is\", len(result))\n"
     ]
    },
    {
     "data": {
      "image/png": "[encoded data removed]",
      "text/plain": [
       "<Figure size 1000x800 with 2 Axes>"
      ]
     },
     "metadata": {},
     "output_type": "display_data"
    },
    {
     "name": "stdout",
     "output_type": "stream",
     "text": [
      "Count Vectorization 1D CNN Classification Report:\n",
      "              precision    recall  f1-score   support\n",
      "\n",
      "           0       0.00      0.00      0.00         3\n",
      "           1       0.00      0.00      0.00         7\n",
      "           2       0.88      1.00      0.93       134\n",
      "           3       0.00      0.00      0.00         9\n",
      "\n",
      "    accuracy                           0.88       153\n",
      "   macro avg       0.22      0.25      0.23       153\n",
      "weighted avg       0.77      0.88      0.82       153\n",
      "\n"
     ]
    },
    {
     "name": "stderr",
     "output_type": "stream",
     "text": [
      "/Users/wilson/anaconda3/envs/NLP/lib/python3.11/site-packages/sklearn/metrics/_classification.py:1509: UndefinedMetricWarning: Precision is ill-defined and being set to 0.0 in labels with no predicted samples. Use `zero_division` parameter to control this behavior.\n",
      "  _warn_prf(average, modifier, f\"{metric.capitalize()} is\", len(result))\n",
      "/Users/wilson/anaconda3/envs/NLP/lib/python3.11/site-packages/sklearn/metrics/_classification.py:1509: UndefinedMetricWarning: Precision is ill-defined and being set to 0.0 in labels with no predicted samples. Use `zero_division` parameter to control this behavior.\n",
      "  _warn_prf(average, modifier, f\"{metric.capitalize()} is\", len(result))\n",
      "/Users/wilson/anaconda3/envs/NLP/lib/python3.11/site-packages/sklearn/metrics/_classification.py:1509: UndefinedMetricWarning: Precision is ill-defined and being set to 0.0 in labels with no predicted samples. Use `zero_division` parameter to control this behavior.\n",
      "  _warn_prf(average, modifier, f\"{metric.capitalize()} is\", len(result))\n"
     ]
    },
    {
     "data": {
      "image/png": "[encoded data removed]",
      "text/plain": [
       "<Figure size 1000x800 with 2 Axes>"
      ]
     },
     "metadata": {},
     "output_type": "display_data"
    }
   ],
   "source": [
    "from sklearn.feature_extraction.text import TfidfVectorizer, CountVectorizer\n",
    "from sklearn.model_selection import train_test_split\n",
    "from sklearn.preprocessing import LabelEncoder\n",
    "from tensorflow.keras.models import Sequential\n",
    "from tensorflow.keras.layers import Conv1D, GlobalMaxPooling1D, Dense\n",
    "from sklearn.metrics import classification_report, confusion_matrix\n",
    "import numpy as np\n",
    "from tensorflow.keras.utils import to_categorical\n",
    "import matplotlib.pyplot as plt\n",
    "import seaborn as sns\n",
    "\n",
    "# Combine tokens into single strings per sample\n",
    "train_texts = [\" \".join(tokens) for tokens in dataset['train']['tokens']]\n",
    "test_texts = [\" \".join(tokens) for tokens in dataset['test']['tokens']]\n",
    "\n",
    "# Vectorization using TF-IDF\n",
    "tfidf_vectorizer = TfidfVectorizer(max_features=10000)  \n",
    "X_train_tfidf = tfidf_vectorizer.fit_transform(train_texts).toarray()\n",
    "X_test_tfidf = tfidf_vectorizer.transform(test_texts).toarray()\n",
    "\n",
    "# Vectorization using Count Vectorizer\n",
    "count_vectorizer = CountVectorizer(max_features=10000)  \n",
    "X_train_count = count_vectorizer.fit_transform(train_texts).toarray()\n",
    "X_test_count = count_vectorizer.transform(test_texts).toarray()\n",
    "\n",
    "# Encode labels \n",
    "label_encoder = LabelEncoder()\n",
    "all_possible_tags = set([tag for sublist in dataset['train']['ner_tags'] for tag in sublist] + [tag for sublist in dataset['test']['ner_tags'] for tag in sublist])\n",
    "label_encoder.fit(list(all_possible_tags))\n",
    "y_train = label_encoder.transform([tags[1] for tags in dataset['train']['ner_tags']])  # Correcting for assuming tags[1]\n",
    "y_test = label_encoder.transform([tags[1] for tags in dataset['test']['ner_tags']])\n",
    "\n",
    "# Convert labels to one-hot encoding\n",
    "y_train_encoded = to_categorical(y_train, num_classes=len(label_encoder.classes_))\n",
    "y_test_encoded = to_categorical(y_test, num_classes=len(label_encoder.classes_))\n",
    "\n",
    "# Build the 1D CNN model\n",
    "model_cnn = Sequential([\n",
    "    Conv1D(filters=128, kernel_size=3, activation='relu', input_shape=(X_train_tfidf.shape[1], 1)),\n",
    "    GlobalMaxPooling1D(),\n",
    "    Dense(len(label_encoder.classes_), activation='softmax')\n",
    "])\n",
    "\n",
    "model_cnn.compile(optimizer='adam', loss='categorical_crossentropy', metrics=['accuracy'])\n",
    "\n",
    "# Fit and evaluate TF-IDF 1D CNN model\n",
    "history_tfidf = model_cnn.fit(np.expand_dims(X_train_tfidf, -1), y_train_encoded, epochs=10, validation_split=0.2, batch_size=32)\n",
    "y_pred_tfidf = np.argmax(model_cnn.predict(np.expand_dims(X_test_tfidf, -1)), axis=1)\n",
    "\n",
    "# Fit and evaluate Count Vectorization 1D CNN model\n",
    "history_count = model_cnn.fit(np.expand_dims(X_train_count, -1), y_train_encoded, epochs=10, validation_split=0.2, batch_size=32)\n",
    "y_pred_count = np.argmax(model_cnn.predict(np.expand_dims(X_test_count, -1)), axis=1)\n",
    "\n",
    "# Print classification reports for both models\n",
    "print(\"TF-IDF 1D CNN Classification Report:\")\n",
    "print(classification_report(y_test, y_pred_tfidf))\n",
    "\n",
    "# Plot confusion matrix for TF-IDF 1D CNN model\n",
    "cm_tfidf = confusion_matrix(y_test, y_pred_tfidf)\n",
    "plt.figure(figsize=(10, 8))\n",
    "sns.heatmap(cm_tfidf, annot=True, fmt='d', cmap='Blues', xticklabels=label_encoder.classes_, yticklabels=label_encoder.classes_)\n",
    "plt.xlabel('Predicted')\n",
    "plt.ylabel('True')\n",
    "plt.title('Confusion Matrix - TF-IDF 1D CNN')\n",
    "plt.show()\n",
    "\n",
    "print(\"Count Vectorization 1D CNN Classification Report:\")\n",
    "print(classification_report(y_test, y_pred_count))\n",
    "\n",
    "# Plot confusion matrix for Count Vectorization 1D CNN model\n",
    "cm_count = confusion_matrix(y_test, y_pred_count)\n",
    "plt.figure(figsize=(10, 8))\n",
    "sns.heatmap(cm_count, annot=True, fmt='d', cmap='Blues', xticklabels=label_encoder.classes_, yticklabels=label_encoder.classes_)\n",
    "plt.xlabel('Predicted')\n",
    "plt.ylabel('True')\n",
    "plt.title('Confusion Matrix - Count Vectorization 1D CNN')\n",
    "plt.show()\n"
   ]
  },
  {
   "cell_type": "markdown",
   "id": "b5481b1a-cdb7-4406-a348-c5b8b4a67993",
   "metadata": {},
   "source": [
    "### Conclusion:\n",
    "\n",
    "Based on the classification reports provided for the 1D CNN models trained with TF-IDF and count vectorized data, we can draw several conclusions:\n",
    "\n",
    "- **Dominant Class Performance:**\n",
    "Both models performed very well in classifying documents of class 2, with a precision and recall of 0.88 and 1.00 respectively, resulting in an f1-score of 0.93. This suggests that the models have learned patterns that are strongly indicative of class 2.\n",
    "- **Performance on Other Classes:**\n",
    "For classes 0, 1, and 3, both models failed to correctly predict any samples, as indicated by the precision and recall scores of 0.00. This implies that the models could not find patterns that distinguished these classes from class 2 or possibly there were not enough examples to learn from.\n",
    "- **Overall Accuracy:**\n",
    "The accuracy of both models is 0.88, but this high accuracy is largely due to the models' ability to correctly classify the dominant class (class 2), which makes up the majority of the test samples.\n",
    "- **Model Limitations:**\n",
    "The zero scores for classes other than class 2 indicate that the models are not generalizing well across different classes. This could be due to several factors including class imbalance, insufficient representative features for the minority classes, or too few training examples for those classes."
   ]
  }
 ],
 "metadata": {
  "kernelspec": {
   "display_name": "Python 3 (ipykernel)",
   "language": "python",
   "name": "python3"
  },
  "language_info": {
   "codemirror_mode": {
    "name": "ipython",
    "version": 3
   },
   "file_extension": ".py",
   "mimetype": "text/x-python",
   "name": "python",
   "nbconvert_exporter": "python",
   "pygments_lexer": "ipython3",
   "version": "3.11.8"
  }
 },
 "nbformat": 4,
 "nbformat_minor": 5
}
